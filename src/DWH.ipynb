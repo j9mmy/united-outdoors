{
 "cells": [
  {
   "cell_type": "code",
   "execution_count": 6,
   "metadata": {},
   "outputs": [
    {
     "name": "stdout",
     "output_type": "stream",
     "text": [
      "Data succesvol opgeslagen in de Data Warehouse!\n"
     ]
    }
   ],
   "source": [
    "import pandas as pd\n",
    "import xml.etree.ElementTree as ET\n",
    "from sqlalchemy import create_engine\n",
    "\n",
    "# Stap 1: XML Parseren\n",
    "def parse_xml(xml_file):\n",
    "    tree = ET.parse(xml_file)\n",
    "    root = tree.getroot()\n",
    "    return root\n",
    "\n",
    "# Stap 2: Data Transformeren\n",
    "def xml_to_dataframe(root):\n",
    "    all_records = []\n",
    "    for mxCell in root.iter('mxCell'):\n",
    "        record_data = {}\n",
    "        record_data['id'] = mxCell.attrib.get('id')\n",
    "        record_data['value'] = mxCell.attrib.get('value')\n",
    "        all_records.append(record_data)\n",
    "    \n",
    "    df = pd.DataFrame(all_records)\n",
    "    return df\n",
    "\n",
    "# Stap 3: Opslag in DWH\n",
    "def store_dataframe(df, database_url, table_name):\n",
    "    if not df.empty:\n",
    "        engine = create_engine(database_url)\n",
    "        df.to_sql(table_name, con=engine, if_exists='replace', index=False)\n",
    "    else:\n",
    "        print(\"DataFrame is empty. No table was created.\")\n",
    "\n",
    "# Voorbeeld XML bestand en database configuratie\n",
    "xml_file = 'DWH Design - Groep 1.drawio.xml'\n",
    "database_url = 'sqlite:///dwh.db'  # Voor een SQLite database\n",
    "table_name = 'data_table'\n",
    "\n",
    "# Uitvoeren van de stappen\n",
    "root = parse_xml(xml_file)\n",
    "df = xml_to_dataframe(root)\n",
    "store_dataframe(df, database_url, table_name)\n",
    "\n",
    "print(\"Data succesvol opgeslagen in de Data Warehouse!\")"
   ]
  }
 ],
 "metadata": {
  "kernelspec": {
   "display_name": "Python 3",
   "language": "python",
   "name": "python3"
  },
  "language_info": {
   "codemirror_mode": {
    "name": "ipython",
    "version": 3
   },
   "file_extension": ".py",
   "mimetype": "text/x-python",
   "name": "python",
   "nbconvert_exporter": "python",
   "pygments_lexer": "ipython3",
   "version": "3.12.2"
  }
 },
 "nbformat": 4,
 "nbformat_minor": 2
}
