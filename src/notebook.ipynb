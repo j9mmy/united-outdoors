{
 "cells": [
  {
   "cell_type": "markdown",
   "metadata": {},
   "source": [
    "### Modules importeren"
   ]
  },
  {
   "cell_type": "code",
   "execution_count": 74,
   "metadata": {},
   "outputs": [],
   "source": [
    "import pandas as pd\n",
    "import pyodbc\n",
    "import sqlite3\n",
    "import numpy as np\n",
    "\n",
    "import os\n",
    "from loguru import logger # pip install loguru\n",
    "import warnings\n",
    "warnings.filterwarnings(\"ignore\", category=UserWarning)\n",
    "\n",
    "servername = 'LAPTOP-NBUM6TMN' # PAS DIT AAN NAAR JE EIGEN SERVER!!!"
   ]
  },
  {
   "cell_type": "markdown",
   "metadata": {},
   "source": [
    "# Data inlezen"
   ]
  },
  {
   "cell_type": "markdown",
   "metadata": {},
   "source": [
    "### Connecties maken"
   ]
  },
  {
   "cell_type": "code",
   "execution_count": 75,
   "metadata": {},
   "outputs": [
    {
     "name": "stderr",
     "output_type": "stream",
     "text": [
      "\u001b[32m2024-05-04 00:35:39.242\u001b[0m | \u001b[1mINFO    \u001b[0m | \u001b[36m__main__\u001b[0m:\u001b[36mestablish_connection\u001b[0m:\u001b[36m3\u001b[0m - \u001b[1mEstablishing connection with Northwind on LAPTOP-NBUM6TMN...\u001b[0m\n",
      "\u001b[32m2024-05-04 00:35:39.244\u001b[0m | \u001b[1mINFO    \u001b[0m | \u001b[36m__main__\u001b[0m:\u001b[36mestablish_connection\u001b[0m:\u001b[36m3\u001b[0m - \u001b[1mEstablishing connection with AdventureWorks2019 on LAPTOP-NBUM6TMN...\u001b[0m\n",
      "\u001b[32m2024-05-04 00:35:39.246\u001b[0m | \u001b[1mINFO    \u001b[0m | \u001b[36m__main__\u001b[0m:\u001b[36mestablish_access_connection\u001b[0m:\u001b[36m11\u001b[0m - \u001b[1mEstablishing connection with aenc.accdb...\u001b[0m\n",
      "\u001b[32m2024-05-04 00:35:39.525\u001b[0m | \u001b[1mINFO    \u001b[0m | \u001b[36m__main__\u001b[0m:\u001b[36m<module>\u001b[0m:\u001b[36m26\u001b[0m - \u001b[1mEstablishing connection with SQLite databases...\u001b[0m\n",
      "\u001b[32m2024-05-04 00:35:39.531\u001b[0m | \u001b[32m\u001b[1mSUCCESS \u001b[0m | \u001b[36m__main__\u001b[0m:\u001b[36m<module>\u001b[0m:\u001b[36m30\u001b[0m - \u001b[32m\u001b[1mConnections established!\u001b[0m\n"
     ]
    }
   ],
   "source": [
    "# Functie om een connectie te maken met een SQL Server database\n",
    "def establish_connection(servername, database):\n",
    "    logger.info(f'Establishing connection with {database} on {servername}...')\n",
    "    try:\n",
    "        conn = pyodbc.connect('DRIVER={SQL Server};SERVER=' + servername + \n",
    "                        ';DATABASE=' + database + ';Trusted_Connection=yes')\n",
    "    except Exception as e:\n",
    "        logger.error(f'Error: {e}')\n",
    "        logger.error(f'Failed to establish connection with {database} on {servername}.')\n",
    "        return None\n",
    "    \n",
    "    return conn\n",
    "\n",
    "# Functie om een connectie te maken met een Microsoft Access database\n",
    "def establish_access_connection(database):\n",
    "    db_name = os.path.basename(database)\n",
    "    logger.info(f'Establishing connection with {db_name}...')\n",
    "    try:\n",
    "        conn = pyodbc.connect('DRIVER={Microsoft Access Driver (*.mdb, *.accdb)};DBQ=' + database)\n",
    "    except Exception as e:\n",
    "        logger.error(f'Error: {e}')\n",
    "        logger.error(f'Failed to establish connection with {db_name}.')\n",
    "        return None\n",
    "    \n",
    "    return conn\n",
    "\n",
    "# Connecties maken met de bronnen\n",
    "northwind_ssms_conn = establish_connection(servername, 'Northwind')\n",
    "northwind_ssms_cursor = northwind_ssms_conn.cursor()\n",
    "\n",
    "adventureworks_ssms_conn = establish_connection(servername, 'AdventureWorks2019')\n",
    "adventureworks_ssms_cursor = adventureworks_ssms_conn.cursor()\n",
    "\n",
    "aenc_access_conn = establish_access_connection('../data/raw/aenc.accdb')\n",
    "aenc_access_cursor = aenc_access_conn.cursor()\n",
    "\n",
    "# SQLite, maak nieuwe databases aan als deze nog niet bestaat\n",
    "logger.info('Establishing connection with SQLite databases...')\n",
    "northwind_sqlite_conn = sqlite3.connect('../data/processed/northwind.sqlite')\n",
    "adventureworks_sqlite_conn = sqlite3.connect('../data/processed/adventureworks.sqlite')\n",
    "aenc_sqlite_conn = sqlite3.connect('../data/processed/aenc.sqlite')\n",
    "logger.success('Connections established!')"
   ]
  },
  {
   "cell_type": "markdown",
   "metadata": {},
   "source": [
    "### Bron-databases overzetten naar SQLite bestanden"
   ]
  },
  {
   "cell_type": "code",
   "execution_count": 76,
   "metadata": {},
   "outputs": [
    {
     "name": "stderr",
     "output_type": "stream",
     "text": [
      "\u001b[32m2024-05-04 00:35:39.551\u001b[0m | \u001b[1mINFO    \u001b[0m | \u001b[36m__main__\u001b[0m:\u001b[36mtransfer_tables_to_sqlite\u001b[0m:\u001b[36m5\u001b[0m - \u001b[1mTransferring tables to SQLite database northwind.sqlite...\u001b[0m\n"
     ]
    },
    {
     "name": "stderr",
     "output_type": "stream",
     "text": [
      "\u001b[32m2024-05-04 00:35:39.859\u001b[0m | \u001b[32m\u001b[1mSUCCESS \u001b[0m | \u001b[36m__main__\u001b[0m:\u001b[36mtransfer_tables_to_sqlite\u001b[0m:\u001b[36m23\u001b[0m - \u001b[32m\u001b[1mTransferred tables to SQLite database northwind.sqlite!\u001b[0m\n",
      "\u001b[32m2024-05-04 00:35:39.863\u001b[0m | \u001b[1mINFO    \u001b[0m | \u001b[36m__main__\u001b[0m:\u001b[36mtransfer_tables_to_sqlite\u001b[0m:\u001b[36m5\u001b[0m - \u001b[1mTransferring tables to SQLite database adventureworks.sqlite...\u001b[0m\n",
      "\u001b[32m2024-05-04 00:35:56.663\u001b[0m | \u001b[32m\u001b[1mSUCCESS \u001b[0m | \u001b[36m__main__\u001b[0m:\u001b[36mtransfer_tables_to_sqlite\u001b[0m:\u001b[36m23\u001b[0m - \u001b[32m\u001b[1mTransferred tables to SQLite database adventureworks.sqlite!\u001b[0m\n",
      "\u001b[32m2024-05-04 00:35:56.664\u001b[0m | \u001b[1mINFO    \u001b[0m | \u001b[36m__main__\u001b[0m:\u001b[36mtransfer_tables_to_sqlite\u001b[0m:\u001b[36m5\u001b[0m - \u001b[1mTransferring tables to SQLite database aenc.sqlite...\u001b[0m\n",
      "\u001b[32m2024-05-04 00:35:56.809\u001b[0m | \u001b[32m\u001b[1mSUCCESS \u001b[0m | \u001b[36m__main__\u001b[0m:\u001b[36mtransfer_tables_to_sqlite\u001b[0m:\u001b[36m23\u001b[0m - \u001b[32m\u001b[1mTransferred tables to SQLite database aenc.sqlite!\u001b[0m\n"
     ]
    }
   ],
   "source": [
    "# Functie om tabellen van een bron-database over te zetten naar een SQLite database\n",
    "def transfer_tables_to_sqlite(tables, conn, sqlite_conn):\n",
    "    db_name = sqlite_conn.execute(\"PRAGMA database_list;\").fetchall()[0][2] # Padlocatie van de database\n",
    "    db_name = os.path.basename(db_name) # Alleen de naam van de database\n",
    "    logger.info(f'Transferring tables to SQLite database {db_name}...')\n",
    "\n",
    "    failed_tables = []\n",
    "\n",
    "    for table in tables:\n",
    "        try:\n",
    "            sql_query = f'SELECT * FROM {table};'\n",
    "            data = pd.read_sql(sql_query, conn)\n",
    "            sqlite_table_name = table.replace('[', '').replace(']', '')  # Verwijder vierkante haken voor tabellen met een spatie\n",
    "            data.to_sql(sqlite_table_name, sqlite_conn, index=False, if_exists='replace')\n",
    "        except Exception as e:\n",
    "            logger.error(f'Error transferring table {table} to SQLite database {db_name}. Error: {e}')\n",
    "            failed_tables.append(table)\n",
    "            break\n",
    "    \n",
    "    if len(failed_tables) > 0:\n",
    "        logger.warning(f'Tables that failed to transfer: {failed_tables}. Rest of the tables were transferred successfully to SQLite database {db_name}.')\n",
    "    else:\n",
    "        logger.success(f'Transferred tables to SQLite database {db_name}!')\n",
    "\n",
    "\n",
    "# Tabellen die worden overgezet naar SQLite\n",
    "northwind_tables = [\n",
    "    'Categories', \n",
    "    'CustomerCustomerDemo', \n",
    "    'CustomerDemographics', \n",
    "    'Customers', \n",
    "    'Employees', \n",
    "    'EmployeeTerritories', \n",
    "    '[Order Details]', # Vanwege de spatie in de tabelnaam moet deze tussen vierkante haken (I <3 PYTHON!!!)\n",
    "    'Orders', \n",
    "    'Products', \n",
    "    'Region', \n",
    "    'Shippers', \n",
    "    'Suppliers', \n",
    "    'Territories'\n",
    "    ]\n",
    "\n",
    "adventureworks_tables = [\n",
    "    'dbo.AWBuildVersion',\n",
    "    'dbo.DatabaseLog',\n",
    "    'dbo.ErrorLog',\n",
    "    'HumanResources.Department',\n",
    "    'HumanResources.Employee',\n",
    "    'HumanResources.EmployeeDepartmentHistory',\n",
    "    'HumanResources.EmployeePayHistory',\n",
    "    'HumanResources.JobCandidate',\n",
    "    'HumanResources.Shift',\n",
    "    'Person.Address',\n",
    "    'Person.AddressType',\n",
    "    'Person.BusinessEntity',\n",
    "    'Person.BusinessEntityAddress',\n",
    "    'Person.BusinessEntityContact',\n",
    "    'Person.ContactType',\n",
    "    'Person.CountryRegion',\n",
    "    'Person.EmailAddress',\n",
    "    'Person.Password',\n",
    "    'Person.Person',\n",
    "    'Person.PersonPhone',\n",
    "    'Person.PhoneNumberType',\n",
    "    'Person.StateProvince',\n",
    "    'Production.BillOfMaterials',\n",
    "    'Production.Culture',\n",
    "    'Production.Document',\n",
    "    'Production.Illustration',\n",
    "    'Production.Location',\n",
    "    'Production.Product',\n",
    "    'Production.ProductCategory',\n",
    "    'Production.ProductCostHistory',\n",
    "    'Production.ProductDescription',\n",
    "    'Production.ProductDocument',\n",
    "    'Production.ProductInventory',\n",
    "    'Production.ProductListPriceHistory',\n",
    "    'Production.ProductModel',\n",
    "    'Production.ProductModelIllustration',\n",
    "    'Production.ProductModelProductDescriptionCulture',\n",
    "    'Production.ProductPhoto',\n",
    "    'Production.ProductProductPhoto',\n",
    "    'Production.ProductReview',\n",
    "    'Production.ProductSubcategory',\n",
    "    'Production.ScrapReason',\n",
    "    'Production.TransactionHistory',\n",
    "    'Production.TransactionHistoryArchive',\n",
    "    'Production.UnitMeasure',\n",
    "    'Production.WorkOrder',\n",
    "    'Production.WorkOrderRouting',\n",
    "    'Purchasing.ProductVendor',\n",
    "    'Purchasing.PurchaseOrderDetail',\n",
    "    'Purchasing.PurchaseOrderHeader',\n",
    "    'Purchasing.ShipMethod',\n",
    "    'Purchasing.Vendor',\n",
    "    'Sales.CountryRegionCurrency',\n",
    "    'Sales.CreditCard',\n",
    "    'Sales.Currency',\n",
    "    'Sales.CurrencyRate',\n",
    "    'Sales.Customer',\n",
    "    'Sales.PersonCreditCard',\n",
    "    'Sales.SalesOrderDetail',\n",
    "    'Sales.SalesOrderHeader',\n",
    "    'Sales.SalesOrderHeaderSalesReason',\n",
    "    'Sales.SalesPerson',\n",
    "    'Sales.SalesPersonQuotaHistory',\n",
    "    'Sales.SalesReason',\n",
    "    'Sales.SalesTaxRate',\n",
    "    'Sales.SalesTerritory',\n",
    "    'Sales.SalesTerritoryHistory',\n",
    "    'Sales.ShoppingCartItem',\n",
    "    'Sales.SpecialOffer',\n",
    "    'Sales.SpecialOfferProduct',\n",
    "    'Sales.Store'\n",
    "]\n",
    "\n",
    "aenc_tables = [\n",
    "    'bonus',\n",
    "    'customer',\n",
    "    'department',\n",
    "    'employee',\n",
    "    'product',\n",
    "    'region',\n",
    "    'sales_order',\n",
    "    'sales_order_item',\n",
    "    'state'\n",
    "]\n",
    "\n",
    "transfer_tables_to_sqlite(northwind_tables, northwind_ssms_conn, northwind_sqlite_conn)\n",
    "transfer_tables_to_sqlite(adventureworks_tables, adventureworks_ssms_conn, adventureworks_sqlite_conn)\n",
    "transfer_tables_to_sqlite(aenc_tables, aenc_access_conn, aenc_sqlite_conn)"
   ]
  },
  {
   "cell_type": "code",
   "execution_count": 77,
   "metadata": {},
   "outputs": [],
   "source": [
    "northwind_sqlite_conn.close()\n",
    "adventureworks_sqlite_conn.close()\n",
    "northwind_ssms_conn.close()\n",
    "adventureworks_ssms_conn.close()\n",
    "aenc_access_conn.close()\n",
    "aenc_sqlite_conn.close()"
   ]
  }
 ],
 "metadata": {
  "kernelspec": {
   "display_name": "Python 3",
   "language": "python",
   "name": "python3"
  },
  "language_info": {
   "codemirror_mode": {
    "name": "ipython",
    "version": 3
   },
   "file_extension": ".py",
   "mimetype": "text/x-python",
   "name": "python",
   "nbconvert_exporter": "python",
   "pygments_lexer": "ipython3",
   "version": "3.12.3"
  }
 },
 "nbformat": 4,
 "nbformat_minor": 2
}
